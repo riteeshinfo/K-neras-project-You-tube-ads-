{
  "nbformat": 4,
  "nbformat_minor": 0,
  "metadata": {
    "colab": {
      "name": "k-nears.ipynb",
      "provenance": [],
      "collapsed_sections": [],
      "authorship_tag": "ABX9TyMdyLfI9uWF0mMraXbZVeHt",
      "include_colab_link": true
    },
    "kernelspec": {
      "name": "python3",
      "display_name": "Python 3"
    },
    "language_info": {
      "name": "python"
    }
  },
  "cells": [
    {
      "cell_type": "markdown",
      "metadata": {
        "id": "view-in-github",
        "colab_type": "text"
      },
      "source": [
        "<a href=\"https://colab.research.google.com/github/riteeshinfo/K-neras-project-You-tube-ads-/blob/main/k_nears.ipynb\" target=\"_parent\"><img src=\"https://colab.research.google.com/assets/colab-badge.svg\" alt=\"Open In Colab\"/></a>"
      ]
    },
    {
      "cell_type": "markdown",
      "source": [
        "# importing modules\n"
      ],
      "metadata": {
        "id": "u8fKyGMRVifF"
      }
    },
    {
      "cell_type": "code",
      "execution_count": 2,
      "metadata": {
        "id": "qgcbVnd9QbZ7"
      },
      "outputs": [],
      "source": [
        "import numpy as np\n",
        "import pandas as pd\n",
        "import matplotlib.pyplot as plt\n",
        "import seaborn as sns"
      ]
    },
    {
      "cell_type": "markdown",
      "source": [
        "# data preprocessing\n"
      ],
      "metadata": {
        "id": "IR-lqckKUVf0"
      }
    },
    {
      "cell_type": "code",
      "source": [
        "dataset=pd.read_csv(\"Social_Network_Ads.CSV\") \n",
        "X = dataset.iloc[:, :-1].values\n",
        "Y = dataset.iloc[:, -1].values"
      ],
      "metadata": {
        "id": "CHPVS3YSTWM4"
      },
      "execution_count": 3,
      "outputs": []
    },
    {
      "cell_type": "markdown",
      "source": [
        "# standard scaling"
      ],
      "metadata": {
        "id": "V9_jwiWLUbkQ"
      }
    },
    {
      "cell_type": "code",
      "source": [
        "from sklearn.preprocessing import StandardScaler\n",
        "sc = StandardScaler()\n",
        "sc.fit(X,Y)"
      ],
      "metadata": {
        "colab": {
          "base_uri": "https://localhost:8080/"
        },
        "id": "ryoWf7RUOKIE",
        "outputId": "9e441300-ed2c-4374-ecb5-ad7985f4f60f"
      },
      "execution_count": 4,
      "outputs": [
        {
          "output_type": "execute_result",
          "data": {
            "text/plain": [
              "StandardScaler()"
            ]
          },
          "metadata": {},
          "execution_count": 4
        }
      ]
    },
    {
      "cell_type": "markdown",
      "source": [
        "# train and test spliting module"
      ],
      "metadata": {
        "id": "HlH_7NLvUkEV"
      }
    },
    {
      "cell_type": "code",
      "source": [
        "from sklearn.model_selection import train_test_split\n",
        "X_train, X_test, Y_train, Y_test= train_test_split(X, Y, test_size =0.25,random_state=0)"
      ],
      "metadata": {
        "id": "0URL1zFsT_rD"
      },
      "execution_count": 5,
      "outputs": []
    },
    {
      "cell_type": "code",
      "source": [
        "print(X_test)"
      ],
      "metadata": {
        "colab": {
          "base_uri": "https://localhost:8080/"
        },
        "id": "iOsxXysvVCkK",
        "outputId": "c970ceb3-6075-4457-9dba-164f39a72b06"
      },
      "execution_count": 7,
      "outputs": [
        {
          "output_type": "stream",
          "name": "stdout",
          "text": [
            "[[    30  87000]\n",
            " [    38  50000]\n",
            " [    35  75000]\n",
            " [    30  79000]\n",
            " [    35  50000]\n",
            " [    27  20000]\n",
            " [    31  15000]\n",
            " [    36 144000]\n",
            " [    18  68000]\n",
            " [    47  43000]\n",
            " [    30  49000]\n",
            " [    28  55000]\n",
            " [    37  55000]\n",
            " [    39  77000]\n",
            " [    20  86000]\n",
            " [    32 117000]\n",
            " [    37  77000]\n",
            " [    19  85000]\n",
            " [    55 130000]\n",
            " [    35  22000]\n",
            " [    35  47000]\n",
            " [    47 144000]\n",
            " [    41  51000]\n",
            " [    47 105000]\n",
            " [    23  28000]\n",
            " [    49 141000]\n",
            " [    28  87000]\n",
            " [    29  80000]\n",
            " [    37  62000]\n",
            " [    32  86000]\n",
            " [    21  88000]\n",
            " [    37  79000]\n",
            " [    57  60000]\n",
            " [    37  53000]\n",
            " [    24  58000]\n",
            " [    18  52000]\n",
            " [    22  81000]\n",
            " [    34  43000]\n",
            " [    31  34000]\n",
            " [    49  36000]\n",
            " [    27  88000]\n",
            " [    41  52000]\n",
            " [    27  84000]\n",
            " [    35  20000]\n",
            " [    43 112000]\n",
            " [    27  58000]\n",
            " [    37  80000]\n",
            " [    52  90000]\n",
            " [    26  30000]\n",
            " [    49  86000]\n",
            " [    57 122000]\n",
            " [    34  25000]\n",
            " [    35  57000]\n",
            " [    34 115000]\n",
            " [    59  88000]\n",
            " [    45  32000]\n",
            " [    29  83000]\n",
            " [    26  80000]\n",
            " [    49  28000]\n",
            " [    23  20000]\n",
            " [    32  18000]\n",
            " [    60  42000]\n",
            " [    19  76000]\n",
            " [    36  99000]\n",
            " [    19  26000]\n",
            " [    60  83000]\n",
            " [    24  89000]\n",
            " [    27  58000]\n",
            " [    40  47000]\n",
            " [    42  70000]\n",
            " [    32 150000]\n",
            " [    35  77000]\n",
            " [    22  63000]\n",
            " [    45  22000]\n",
            " [    27  89000]\n",
            " [    18  82000]\n",
            " [    42  79000]\n",
            " [    40  60000]\n",
            " [    53  34000]\n",
            " [    47 107000]\n",
            " [    58 144000]\n",
            " [    59  83000]\n",
            " [    24  55000]\n",
            " [    26  35000]\n",
            " [    58  38000]\n",
            " [    42  80000]\n",
            " [    40  75000]\n",
            " [    59 130000]\n",
            " [    46  41000]\n",
            " [    41  60000]\n",
            " [    42  64000]\n",
            " [    37 146000]\n",
            " [    23  48000]\n",
            " [    25  33000]\n",
            " [    24  84000]\n",
            " [    27  96000]\n",
            " [    23  63000]\n",
            " [    48  33000]\n",
            " [    48  90000]\n",
            " [    42 104000]]\n"
          ]
        }
      ]
    },
    {
      "cell_type": "code",
      "source": [
        "print(Y_test)"
      ],
      "metadata": {
        "colab": {
          "base_uri": "https://localhost:8080/"
        },
        "id": "SS-Nw5tkVGw8",
        "outputId": "45f88be4-9efc-4f55-a84f-953d2a2813cc"
      },
      "execution_count": 8,
      "outputs": [
        {
          "output_type": "stream",
          "name": "stdout",
          "text": [
            "[0 0 0 0 0 0 0 1 0 0 0 0 0 0 0 0 0 0 1 0 0 1 0 1 0 1 0 0 0 0 0 1 1 0 0 0 0\n",
            " 0 0 1 0 0 0 0 1 0 0 1 0 1 1 0 0 0 1 1 0 0 1 0 0 1 0 1 0 1 0 0 0 0 1 0 0 1\n",
            " 0 0 0 0 1 1 1 0 0 0 1 1 0 1 1 0 0 1 0 0 0 1 0 1 1 1]\n"
          ]
        }
      ]
    },
    {
      "cell_type": "markdown",
      "source": [
        "## K-nears training set "
      ],
      "metadata": {
        "id": "qVhouL8MXDpM"
      }
    },
    {
      "cell_type": "code",
      "source": [
        "from sklearn.neighbors import KNeighborsClassifier\n",
        "classifier = KNeighborsClassifier(n_neighbors=5)\n",
        "classifier.fit(X_train,Y_train)"
      ],
      "metadata": {
        "colab": {
          "base_uri": "https://localhost:8080/"
        },
        "id": "HMeFoUMlVHh-",
        "outputId": "04a15f36-0152-425e-8da2-27c0a0cd3a8d"
      },
      "execution_count": 9,
      "outputs": [
        {
          "output_type": "execute_result",
          "data": {
            "text/plain": [
              "KNeighborsClassifier()"
            ]
          },
          "metadata": {},
          "execution_count": 9
        }
      ]
    },
    {
      "cell_type": "markdown",
      "source": [
        "# predicting the module"
      ],
      "metadata": {
        "id": "PcLNVGimaBnE"
      }
    },
    {
      "cell_type": "code",
      "source": [
        "print(classifier.predict([[50,90000]]))"
      ],
      "metadata": {
        "colab": {
          "base_uri": "https://localhost:8080/"
        },
        "id": "eNhGVLGeaWoz",
        "outputId": "41b691ff-d70e-4a3b-99c3-2d9667f522ba"
      },
      "execution_count": 10,
      "outputs": [
        {
          "output_type": "stream",
          "name": "stdout",
          "text": [
            "[1]\n"
          ]
        }
      ]
    },
    {
      "cell_type": "code",
      "source": [
        "Y_pred = classifier.predict(X_train)\n"
      ],
      "metadata": {
        "id": "kU-0Vk2pcdA6"
      },
      "execution_count": 11,
      "outputs": []
    },
    {
      "cell_type": "code",
      "source": [
        "print(Y_pred)"
      ],
      "metadata": {
        "colab": {
          "base_uri": "https://localhost:8080/"
        },
        "id": "5f9yTCOYcN8C",
        "outputId": "eb447798-9445-49b6-e5c4-32e76d28ac27"
      },
      "execution_count": 25,
      "outputs": [
        {
          "output_type": "stream",
          "name": "stdout",
          "text": [
            "[0 0 0 0 0 0 0 1 0 0 0 0 0 1 0 1 0 0 1 0 0 1 0 1 0 1 0 0 0 0 1 0 0 0 0 0 0\n",
            " 0 1 1 1 0 0 0 1 0 0 1 0 0 1 1 0 0 1 0 0 0 1 0 0 0 0 1 1 0 0 0 0 1 1 0 0 1\n",
            " 0 0 0 0 1 1 1 0 0 1 1 0 0 1 0 0 0 1 0 0 0 1 0 1 1 1]\n"
          ]
        }
      ]
    },
    {
      "cell_type": "markdown",
      "source": [
        "# Making the confusion metrics"
      ],
      "metadata": {
        "id": "xuOCGmPyQhUW"
      }
    },
    {
      "cell_type": "code",
      "source": [
        "from sklearn.metrics import confusion_matrix, accuracy_score\n",
        "cm = confusion_matrix(Y_train, Y_pred)\n",
        "print(cm)\n",
        "accuracy_score(Y_train, Y_pred)"
      ],
      "metadata": {
        "colab": {
          "base_uri": "https://localhost:8080/"
        },
        "id": "fcwEq8S8PC2v",
        "outputId": "9092a4a8-4853-42b2-ee2f-997f42f7b642"
      },
      "execution_count": 12,
      "outputs": [
        {
          "output_type": "stream",
          "name": "stdout",
          "text": [
            "[[173  16]\n",
            " [ 21  90]]\n"
          ]
        },
        {
          "output_type": "execute_result",
          "data": {
            "text/plain": [
              "0.8766666666666667"
            ]
          },
          "metadata": {},
          "execution_count": 12
        }
      ]
    },
    {
      "cell_type": "markdown",
      "source": [
        "# visualsilation of the module"
      ],
      "metadata": {
        "id": "5BgXfpiVUqwU"
      }
    },
    {
      "cell_type": "markdown",
      "source": [
        "ERROR RATE OF THE MODULE"
      ],
      "metadata": {
        "id": "3ocl8cD2U5jS"
      }
    },
    {
      "cell_type": "code",
      "source": [
        "error_rate = []\n",
        "for i in range(1,29):\n",
        "  classifier = KNeighborsClassifier(n_neighbors=i)\n",
        "  classifier.fit(X_train,Y_train)\n",
        "  pred_i=classifier.predict(X_test)\n",
        "  error_rate.append(np.mean(pred_i != Y_test))"
      ],
      "metadata": {
        "id": "h10ibMcsUwCx"
      },
      "execution_count": 13,
      "outputs": []
    },
    {
      "cell_type": "code",
      "source": [
        "print(error_rate)"
      ],
      "metadata": {
        "colab": {
          "base_uri": "https://localhost:8080/"
        },
        "id": "L8qkKd7HWBgB",
        "outputId": "333202d4-c1e0-412b-a86e-ae8b8e59bccd"
      },
      "execution_count": 14,
      "outputs": [
        {
          "output_type": "stream",
          "name": "stdout",
          "text": [
            "[0.16, 0.23, 0.22, 0.19, 0.17, 0.16, 0.19, 0.16, 0.16, 0.18, 0.11, 0.16, 0.16, 0.16, 0.14, 0.15, 0.15, 0.16, 0.13, 0.16, 0.15, 0.17, 0.16, 0.16, 0.17, 0.17, 0.21, 0.17]\n"
          ]
        }
      ]
    },
    {
      "cell_type": "code",
      "source": [
        "plt.figure(figsize=(10,6))\n",
        "plt.plot(range(1,29),error_rate,color='blue',linestyle='dashed',marker='o',markerfacecolor='red',markersize=10)\n",
        "plt.title(\"knears vs error_rate\")\n",
        "plt.ylabel(\"errror_rate\")\n",
        "plt.xlabel(\"knears\")"
      ],
      "metadata": {
        "colab": {
          "base_uri": "https://localhost:8080/",
          "height": 421
        },
        "id": "uKVYtYfpQLrx",
        "outputId": "ade69c04-2571-44fc-c8f8-ffe0f59fc215"
      },
      "execution_count": 15,
      "outputs": [
        {
          "output_type": "execute_result",
          "data": {
            "text/plain": [
              "Text(0.5, 0, 'knears')"
            ]
          },
          "metadata": {},
          "execution_count": 15
        },
        {
          "output_type": "display_data",
          "data": {
            "image/png": "[encoded data removed]",
            "text/plain": [
              "<Figure size 720x432 with 1 Axes>"
            ]
          },
          "metadata": {
            "needs_background": "light"
          }
        }
      ]
    },
    {
      "cell_type": "markdown",
      "source": [
        "# classification of k nears\n"
      ],
      "metadata": {
        "id": "gCiGALM7UF1g"
      }
    },
    {
      "cell_type": "code",
      "metadata": {
        "id": "_NOjKvZRid5l"
      },
      "source": [
        "from matplotlib.colors import ListedColormap\n",
        "X_set, y_set = sc.inverse_transform(X_train), Y_train\n",
        "X1, X2 = np.meshgrid(np.arange(start = X_set[:, 0].min() - 10, stop = X_set[:, 0].max() + 10, step = 1),\n",
        "                     np.arange(start = X_set[:, 1].min() - 1000, stop = X_set[:, 1].max() + 1000, step = 1))\n",
        "plt.contourf(X1, X2, classifier.predict(sc.transform(np.array([X1.ravel(), X2.ravel()]).T)).reshape(X1.shape),\n",
        "             alpha = 0.75, cmap = ListedColormap(('red', 'green')))\n",
        "plt.xlim(X1.min(), X1.max())\n",
        "plt.ylim(X2.min(), X2.max())\n",
        "for i, j in enumerate(np.unique(y_set)):\n",
        "    plt.scatter(X_set[y_set == j, 0], X_set[y_set == j, 1], c = ListedColormap(('red', 'green'))(i), label = j)\n",
        "plt.title('K-NN (Training set)')\n",
        "plt.xlabel('Age')\n",
        "plt.ylabel('Estimated Salary')\n",
        "plt.legend()\n",
        "plt.show()"
      ],
      "execution_count": null,
      "outputs": []
    },
    {
      "cell_type": "code",
      "source": [
        ""
      ],
      "metadata": {
        "id": "MFTuuZyeUDOT"
      },
      "execution_count": null,
      "outputs": []
    }
  ]
}